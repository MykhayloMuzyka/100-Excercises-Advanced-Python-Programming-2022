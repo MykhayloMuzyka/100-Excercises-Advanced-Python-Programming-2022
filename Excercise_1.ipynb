{
  "nbformat": 4,
  "nbformat_minor": 0,
  "metadata": {
    "colab": {
      "name": "Excercise 1.ipynb",
      "provenance": [],
      "authorship_tag": "ABX9TyPemdb9LuHhB8J9c//UQrKu",
      "include_colab_link": true
    },
    "kernelspec": {
      "name": "python3",
      "display_name": "Python 3"
    },
    "language_info": {
      "name": "python"
    }
  },
  "cells": [
    {
      "cell_type": "markdown",
      "metadata": {
        "id": "view-in-github",
        "colab_type": "text"
      },
      "source": [
        "<a href=\"https://colab.research.google.com/github/MykhayloMuzyka/100-Excercises-Advanced-Python-Programming-2022/blob/main/Excercise_1.ipynb\" target=\"_parent\"><img src=\"https://colab.research.google.com/assets/colab-badge.svg\" alt=\"Open In Colab\"/></a>"
      ]
    },
    {
      "cell_type": "code",
      "execution_count": 7,
      "metadata": {
        "id": "dsr5sgzoprLX"
      },
      "outputs": [],
      "source": [
        "def calculate():\n",
        "  res = 0\n",
        "  for num in range(100):\n",
        "    if num % 5 == 0 or num % 7 == 0:\n",
        "      res += num\n",
        "  return res"
      ]
    },
    {
      "cell_type": "code",
      "source": [
        "print(calculate())"
      ],
      "metadata": {
        "colab": {
          "base_uri": "https://localhost:8080/"
        },
        "id": "A1Sl6tTSqK5p",
        "outputId": "ff2d8def-371c-4278-8f2e-fdf620b2a2b9"
      },
      "execution_count": 8,
      "outputs": [
        {
          "output_type": "stream",
          "name": "stdout",
          "text": [
            "1580\n"
          ]
        }
      ]
    }
  ]
}