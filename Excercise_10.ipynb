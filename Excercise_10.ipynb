{
  "nbformat": 4,
  "nbformat_minor": 0,
  "metadata": {
    "colab": {
      "name": "100+ Exercises - Advanced Python Programming - 2022.ipynb",
      "provenance": [],
      "authorship_tag": "ABX9TyNCUU1Kkkc32pwSFQsIH1AX"
    },
    "kernelspec": {
      "name": "python3",
      "display_name": "Python 3"
    },
    "language_info": {
      "name": "python"
    }
  },
  "cells": [
    {
      "cell_type": "code",
      "execution_count": 40,
      "metadata": {
        "id": "wFGaRb8BzCG4"
      },
      "outputs": [],
      "source": [
        "def is_palindrome(num):\n",
        "    if str(num) == str(num)[::-1] and str(bin(num))[2:] == str(bin(num))[2:][::-1]:\n",
        "        return True\n",
        "    return False"
      ]
    },
    {
      "cell_type": "code",
      "source": [
        "\n",
        "print(is_palindrome(99))"
      ],
      "metadata": {
        "id": "ih1N8b737tV0",
        "outputId": "07db8c6b-0287-417f-f11b-57ec8868c604",
        "colab": {
          "base_uri": "https://localhost:8080/"
        }
      },
      "execution_count": 41,
      "outputs": [
        {
          "output_type": "stream",
          "name": "stdout",
          "text": [
            "True\n"
          ]
        }
      ]
    }
  ]
}