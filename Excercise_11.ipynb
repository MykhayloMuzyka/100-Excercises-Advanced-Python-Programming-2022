{
  "nbformat": 4,
  "nbformat_minor": 0,
  "metadata": {
    "colab": {
      "name": "100+ Exercises - Advanced Python Programming - 2022.ipynb",
      "provenance": [],
      "authorship_tag": "ABX9TyO7HBFpnh5+z1UZtcx1iN52"
    },
    "kernelspec": {
      "name": "python3",
      "display_name": "Python 3"
    },
    "language_info": {
      "name": "python"
    }
  },
  "cells": [
    {
      "cell_type": "code",
      "execution_count": 1,
      "metadata": {
        "id": "wFGaRb8BzCG4"
      },
      "outputs": [],
      "source": [
        "def is_palindrome(num):\n",
        "    if str(num) == str(num)[::-1] and str(bin(num))[2:] == str(bin(num))[2:][::-1]:\n",
        "        return True\n",
        "    return False"
      ]
    },
    {
      "cell_type": "code",
      "source": [
        "def calculate():\n",
        "    res = list()\n",
        "    for i in range(100, 1000):\n",
        "        if is_palindrome(i):\n",
        "            res.append(i)\n",
        "    return res"
      ],
      "metadata": {
        "id": "1gVo4lUYPd7v"
      },
      "execution_count": 2,
      "outputs": []
    },
    {
      "cell_type": "code",
      "source": [
        "print(calculate())"
      ],
      "metadata": {
        "colab": {
          "base_uri": "https://localhost:8080/"
        },
        "id": "x4x5AyHoPeox",
        "outputId": "f61df5ad-e64c-4d67-8757-29aeb75b551c"
      },
      "execution_count": 3,
      "outputs": [
        {
          "output_type": "stream",
          "name": "stdout",
          "text": [
            "[313, 585, 717]\n"
          ]
        }
      ]
    }
  ]
}