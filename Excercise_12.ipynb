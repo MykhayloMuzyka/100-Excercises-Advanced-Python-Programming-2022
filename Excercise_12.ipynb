{
  "nbformat": 4,
  "nbformat_minor": 0,
  "metadata": {
    "colab": {
      "name": "100+ Exercises - Advanced Python Programming - 2022.ipynb",
      "provenance": [],
      "authorship_tag": "ABX9TyNM0jxk9u+pJdMSEFMB8Fun"
    },
    "kernelspec": {
      "name": "python3",
      "display_name": "Python 3"
    },
    "language_info": {
      "name": "python"
    }
  },
  "cells": [
    {
      "cell_type": "code",
      "execution_count": 4,
      "metadata": {
        "id": "wFGaRb8BzCG4"
      },
      "outputs": [],
      "source": [
        "def compress(num):\n",
        "    res = list()\n",
        "    counter = 1\n",
        "    str_num = str(num)\n",
        "    count_tuple = [str_num[0], 1]\n",
        "    while True:\n",
        "        if str_num[counter] == str_num[counter - 1]:\n",
        "            count_tuple[1] += 1\n",
        "        else:\n",
        "            res.append(tuple(count_tuple))\n",
        "            count_tuple = [str_num[counter], 1]\n",
        "        counter += 1\n",
        "        if counter == len(str_num):\n",
        "            res.append(tuple(count_tuple))\n",
        "            break\n",
        "    return res"
      ]
    },
    {
      "cell_type": "code",
      "source": [
        "print(compress(111155522500))"
      ],
      "metadata": {
        "colab": {
          "base_uri": "https://localhost:8080/"
        },
        "id": "1gVo4lUYPd7v",
        "outputId": "b8b12b77-1ea3-4912-97f3-61cd81f1b103"
      },
      "execution_count": 5,
      "outputs": [
        {
          "output_type": "stream",
          "name": "stdout",
          "text": [
            "[('1', 4), ('5', 3), ('2', 2), ('5', 1), ('0', 2)]\n"
          ]
        }
      ]
    }
  ]
}