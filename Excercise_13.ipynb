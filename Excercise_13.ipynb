{
  "nbformat": 4,
  "nbformat_minor": 0,
  "metadata": {
    "colab": {
      "name": "100+ Exercises - Advanced Python Programming - 2022.ipynb",
      "provenance": [],
      "authorship_tag": "ABX9TyNRrjGwv7YMGfzeNvBvhW0Z"
    },
    "kernelspec": {
      "name": "python3",
      "display_name": "Python 3"
    },
    "language_info": {
      "name": "python"
    }
  },
  "cells": [
    {
      "cell_type": "code",
      "execution_count": 6,
      "metadata": {
        "id": "wFGaRb8BzCG4"
      },
      "outputs": [],
      "source": [
        "def compress(num):\n",
        "    res = ''\n",
        "    counter = 1\n",
        "    str_num = str(num)\n",
        "    count_tuple = [str_num[0], 1]\n",
        "    while True:\n",
        "        if str_num[counter] == str_num[counter - 1]:\n",
        "            count_tuple[1] += 1\n",
        "        else:\n",
        "            res += f\"{count_tuple[0]}{count_tuple[1]}_\"\n",
        "            count_tuple = [str_num[counter], 1]\n",
        "        counter += 1\n",
        "        if counter == len(str_num):\n",
        "            res += f\"{count_tuple[0]}{count_tuple[1]}_\"\n",
        "            break\n",
        "    return res[:-1]"
      ]
    },
    {
      "cell_type": "code",
      "source": [
        "print(compress(111155522500))"
      ],
      "metadata": {
        "colab": {
          "base_uri": "https://localhost:8080/"
        },
        "id": "1gVo4lUYPd7v",
        "outputId": "42344ded-8f6f-4ea4-a921-2890887e2e09"
      },
      "execution_count": 7,
      "outputs": [
        {
          "output_type": "stream",
          "name": "stdout",
          "text": [
            "14_53_22_51_02\n"
          ]
        }
      ]
    }
  ]
}