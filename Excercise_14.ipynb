{
  "nbformat": 4,
  "nbformat_minor": 0,
  "metadata": {
    "colab": {
      "name": "100+ Exercises - Advanced Python Programming - 2022.ipynb",
      "provenance": [],
      "authorship_tag": "ABX9TyN0Kh5mwyLD6Ju9Qu3OcrjM"
    },
    "kernelspec": {
      "name": "python3",
      "display_name": "Python 3"
    },
    "language_info": {
      "name": "python"
    }
  },
  "cells": [
    {
      "cell_type": "code",
      "execution_count": 8,
      "metadata": {
        "id": "wFGaRb8BzCG4"
      },
      "outputs": [],
      "source": [
        "def compress(num):\n",
        "    res = ''\n",
        "    counter = 1\n",
        "    str_num = str(num)\n",
        "    count_tuple = [str_num[0], 1]\n",
        "    while True:\n",
        "        if str_num[counter] == str_num[counter - 1]:\n",
        "            count_tuple[1] += 1\n",
        "        else:\n",
        "            res += f\"{count_tuple[0]}{'.'*count_tuple[1]}\"\n",
        "            count_tuple = [str_num[counter], 1]\n",
        "        counter += 1\n",
        "        if counter == len(str_num):\n",
        "            res += f\"{count_tuple[0]}{'.'*(count_tuple[1] + 1)}\"\n",
        "            break\n",
        "    return res[:-1]"
      ]
    },
    {
      "cell_type": "code",
      "source": [
        "print(compress(111155522500))"
      ],
      "metadata": {
        "colab": {
          "base_uri": "https://localhost:8080/"
        },
        "id": "1gVo4lUYPd7v",
        "outputId": "878ed88f-30b9-4e3c-a807-66ae26ae48d2"
      },
      "execution_count": 9,
      "outputs": [
        {
          "output_type": "stream",
          "name": "stdout",
          "text": [
            "1....5...2..5.0..\n"
          ]
        }
      ]
    }
  ]
}