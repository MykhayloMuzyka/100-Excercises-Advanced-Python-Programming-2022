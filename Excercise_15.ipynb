{
  "nbformat": 4,
  "nbformat_minor": 0,
  "metadata": {
    "colab": {
      "name": "100+ Exercises - Advanced Python Programming - 2022.ipynb",
      "provenance": [],
      "authorship_tag": "ABX9TyPNJDujF4esLDpTxxndvYS0"
    },
    "kernelspec": {
      "name": "python3",
      "display_name": "Python 3"
    },
    "language_info": {
      "name": "python"
    }
  },
  "cells": [
    {
      "cell_type": "code",
      "execution_count": 10,
      "metadata": {
        "id": "wFGaRb8BzCG4"
      },
      "outputs": [],
      "source": [
        "def compress(num):\n",
        "    res = ''\n",
        "    counter = 1\n",
        "    str_num = str(num)\n",
        "    count_tuple = [str_num[0], 1]\n",
        "    while True:\n",
        "        if str_num[counter] == str_num[counter - 1]:\n",
        "            count_tuple[1] += 1\n",
        "        else:\n",
        "            res += f\"{count_tuple[0]}{count_tuple[1]}_\"\n",
        "            count_tuple = [str_num[counter], 1]\n",
        "        counter += 1\n",
        "        if counter == len(str_num):\n",
        "            res += f\"{count_tuple[0]}{count_tuple[1]}_\"\n",
        "            break\n",
        "    return res[:-1]"
      ]
    },
    {
      "cell_type": "code",
      "source": [
        "def decompress(compressed):\n",
        "    res = ''\n",
        "    lst = compressed.split('_')\n",
        "    for el in lst:\n",
        "        res += (el[0] * (int(el[1:])))\n",
        "    return int(res)"
      ],
      "metadata": {
        "id": "1gVo4lUYPd7v"
      },
      "execution_count": 11,
      "outputs": []
    },
    {
      "cell_type": "code",
      "source": [
        "compressed = compress(111155522500)\n",
        "print(decompress(compressed))"
      ],
      "metadata": {
        "colab": {
          "base_uri": "https://localhost:8080/"
        },
        "id": "tzbLqqReb3xX",
        "outputId": "e510f863-4e7a-42c9-8448-ff2e29e7d57a"
      },
      "execution_count": 12,
      "outputs": [
        {
          "output_type": "stream",
          "name": "stdout",
          "text": [
            "111155522500\n"
          ]
        }
      ]
    }
  ]
}