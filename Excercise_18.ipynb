{
  "nbformat": 4,
  "nbformat_minor": 0,
  "metadata": {
    "colab": {
      "name": "100+ Exercises - Advanced Python Programming - 2022.ipynb",
      "provenance": [],
      "authorship_tag": "ABX9TyOab1DeEzWKxPHKwAc1DqnC"
    },
    "kernelspec": {
      "name": "python3",
      "display_name": "Python 3"
    },
    "language_info": {
      "name": "python"
    }
  },
  "cells": [
    {
      "cell_type": "code",
      "execution_count": 17,
      "metadata": {
        "id": "wFGaRb8BzCG4"
      },
      "outputs": [],
      "source": [
        "class Matrix:\n",
        "    def __init__(self, string):\n",
        "        self.string = string\n",
        "\n",
        "    @property\n",
        "    def matrix(self):\n",
        "        rows = self.string.split('\\n')\n",
        "        res = []\n",
        "        for row in rows:\n",
        "            res.append([int(i) for i in row.split(' ')])\n",
        "        return res\n",
        "\n",
        "    def __repr__(self):\n",
        "        return self.string\n",
        "\n",
        "    def row(self, idx):\n",
        "        return self.matrix[idx]"
      ]
    },
    {
      "cell_type": "code",
      "source": [
        "m = Matrix('3 4\\n5 6\\n7 8')\n",
        "print(m.row(0))"
      ],
      "metadata": {
        "colab": {
          "base_uri": "https://localhost:8080/"
        },
        "id": "tzbLqqReb3xX",
        "outputId": "4cb9f189-8b86-4953-a99b-50acded95457"
      },
      "execution_count": 18,
      "outputs": [
        {
          "output_type": "stream",
          "name": "stdout",
          "text": [
            "[3, 4]\n"
          ]
        }
      ]
    }
  ]
}