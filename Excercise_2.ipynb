{
  "nbformat": 4,
  "nbformat_minor": 0,
  "metadata": {
    "colab": {
      "name": "Excercise 2.ipynb",
      "provenance": [],
      "authorship_tag": "ABX9TyNKk9wHn2//xmulxSrBNS5z",
      "include_colab_link": true
    },
    "kernelspec": {
      "name": "python3",
      "display_name": "Python 3"
    },
    "language_info": {
      "name": "python"
    }
  },
  "cells": [
    {
      "cell_type": "markdown",
      "metadata": {
        "id": "view-in-github",
        "colab_type": "text"
      },
      "source": [
        "<a href=\"https://colab.research.google.com/github/MykhayloMuzyka/100-Excercises-Advanced-Python-Programming-2022/blob/main/Excercise_2.ipynb\" target=\"_parent\"><img src=\"https://colab.research.google.com/assets/colab-badge.svg\" alt=\"Open In Colab\"/></a>"
      ]
    },
    {
      "cell_type": "code",
      "execution_count": 1,
      "metadata": {
        "id": "XNP161cGucu8"
      },
      "outputs": [],
      "source": [
        "def calculate():\n",
        "    a, b = 0, 1\n",
        "    res = 0\n",
        "    while True:\n",
        "        a, b = b, a + b\n",
        "        if b < 1e6:\n",
        "          if b % 2 == 0:\n",
        "            res += b\n",
        "        else:\n",
        "          break\n",
        "    return res"
      ]
    },
    {
      "cell_type": "code",
      "source": [
        "print(calculate())"
      ],
      "metadata": {
        "colab": {
          "base_uri": "https://localhost:8080/"
        },
        "id": "ZmML4U9Wuh0V",
        "outputId": "8c44cfa7-833a-4b5d-b8ce-326067008159"
      },
      "execution_count": 2,
      "outputs": [
        {
          "output_type": "stream",
          "name": "stdout",
          "text": [
            "1089154\n"
          ]
        }
      ]
    }
  ]
}