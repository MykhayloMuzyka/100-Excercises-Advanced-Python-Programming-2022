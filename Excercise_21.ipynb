{
  "nbformat": 4,
  "nbformat_minor": 0,
  "metadata": {
    "colab": {
      "name": "100+ Exercises - Advanced Python Programming - 2022.ipynb",
      "provenance": [],
      "authorship_tag": "ABX9TyPBM3NgKpOYuraKcIHcE0ob"
    },
    "kernelspec": {
      "name": "python3",
      "display_name": "Python 3"
    },
    "language_info": {
      "name": "python"
    }
  },
  "cells": [
    {
      "cell_type": "code",
      "execution_count": 23,
      "metadata": {
        "id": "wFGaRb8BzCG4"
      },
      "outputs": [],
      "source": [
        "def hamming_distance(v1, v2):\n",
        "    if len(v1) != len(v2):\n",
        "        raise ValueError('Both vectors must be the same length.')\n",
        "    res = 0\n",
        "    for el1, el2 in zip(v1, v2):\n",
        "        res += abs(int(el1) - int(el2))\n",
        "    return res"
      ]
    },
    {
      "cell_type": "code",
      "source": [
        "hamming_distance('01101010', '11011011')"
      ],
      "metadata": {
        "colab": {
          "base_uri": "https://localhost:8080/"
        },
        "id": "tzbLqqReb3xX",
        "outputId": "221dc02f-f98f-4b43-e2f9-b2f072738a3b"
      },
      "execution_count": 26,
      "outputs": [
        {
          "output_type": "execute_result",
          "data": {
            "text/plain": [
              "4"
            ]
          },
          "metadata": {},
          "execution_count": 26
        }
      ]
    },
    {
      "cell_type": "code",
      "source": [
        "def hamming_weight(vector):\n",
        "    return vector.count('1')"
      ],
      "metadata": {
        "id": "QabUxgDUpSJq"
      },
      "execution_count": 27,
      "outputs": []
    },
    {
      "cell_type": "code",
      "source": [
        "hamming_weight('01101010')"
      ],
      "metadata": {
        "colab": {
          "base_uri": "https://localhost:8080/"
        },
        "id": "r_4v5RFMpUUH",
        "outputId": "90a385ce-8ab0-4730-f460-50032eb4ea77"
      },
      "execution_count": 28,
      "outputs": [
        {
          "output_type": "execute_result",
          "data": {
            "text/plain": [
              "4"
            ]
          },
          "metadata": {},
          "execution_count": 28
        }
      ]
    }
  ]
}