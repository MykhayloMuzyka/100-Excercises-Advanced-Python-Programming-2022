{
  "nbformat": 4,
  "nbformat_minor": 0,
  "metadata": {
    "colab": {
      "name": "100+ Exercises - Advanced Python Programming - 2022.ipynb",
      "provenance": [],
      "authorship_tag": "ABX9TyPaLrbZr3S6S5TWytqWI4HA"
    },
    "kernelspec": {
      "name": "python3",
      "display_name": "Python 3"
    },
    "language_info": {
      "name": "python"
    }
  },
  "cells": [
    {
      "cell_type": "code",
      "execution_count": 29,
      "metadata": {
        "id": "wFGaRb8BzCG4"
      },
      "outputs": [],
      "source": [
        "POINTS = {\n",
        "    'EAIONRTLSU': 1,\n",
        "    'DG': 2,\n",
        "    'BCMP': 3,\n",
        "    'FHVWY': 4,\n",
        "    'K': 5,\n",
        "    'JX': 8,\n",
        "    'QZ': 10,\n",
        "}"
      ]
    },
    {
      "cell_type": "code",
      "source": [
        "POINTS_BY_LETTER = dict()\n",
        "for symbols, points in POINTS.items():\n",
        "    for symbol in symbols:\n",
        "        POINTS_BY_LETTER[symbol.lower()] = points"
      ],
      "metadata": {
        "id": "tzbLqqReb3xX"
      },
      "execution_count": 30,
      "outputs": []
    },
    {
      "cell_type": "code",
      "source": [
        "def score(word):\n",
        "    res = 0\n",
        "    for letter in word:\n",
        "        res += POINTS_BY_LETTER[letter.lower()]\n",
        "    return res"
      ],
      "metadata": {
        "id": "QabUxgDUpSJq"
      },
      "execution_count": 31,
      "outputs": []
    },
    {
      "cell_type": "code",
      "source": [
        "score('python')"
      ],
      "metadata": {
        "colab": {
          "base_uri": "https://localhost:8080/"
        },
        "id": "r_4v5RFMpUUH",
        "outputId": "088cc7dc-ffab-405e-a3ad-87606051ae54"
      },
      "execution_count": 32,
      "outputs": [
        {
          "output_type": "execute_result",
          "data": {
            "text/plain": [
              "14"
            ]
          },
          "metadata": {},
          "execution_count": 32
        }
      ]
    }
  ]
}