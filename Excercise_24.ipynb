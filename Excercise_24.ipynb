{
  "nbformat": 4,
  "nbformat_minor": 0,
  "metadata": {
    "colab": {
      "name": "100+ Exercises - Advanced Python Programming - 2022.ipynb",
      "provenance": [],
      "authorship_tag": "ABX9TyM2WL8UHS0S30N6gE44FAu+"
    },
    "kernelspec": {
      "name": "python3",
      "display_name": "Python 3"
    },
    "language_info": {
      "name": "python"
    }
  },
  "cells": [
    {
      "cell_type": "code",
      "execution_count": 39,
      "metadata": {
        "id": "wFGaRb8BzCG4"
      },
      "outputs": [],
      "source": [
        "def spiral_matrix(size):\n",
        "    directions = {\n",
        "        'right': lambda pos: (pos[0], pos[1] + 1),\n",
        "        'bottom': lambda pos: (pos[0] + 1, pos[1]),\n",
        "        'left': lambda pos: (pos[0], pos[1] - 1),\n",
        "        'top': lambda pos: (pos[0] - 1, pos[1]),\n",
        "    }\n",
        "    spiral = [[0 for _ in range(size)] for _ in range(size)]\n",
        "    position = (0, 0)\n",
        "    counter = 1\n",
        "    directions_iter = iter(['right', 'bottom', 'left', 'top'])\n",
        "    direction = next(directions_iter)\n",
        "    while True:\n",
        "        spiral[position[0]][position[1]] = counter\n",
        "        if counter == size ** 2:\n",
        "            break\n",
        "        new_pos = directions[direction](position)\n",
        "        if 0 <= new_pos[0] < size and 0 <= new_pos[1] < size and not spiral[new_pos[0]][new_pos[1]]:\n",
        "            position = new_pos\n",
        "            counter += 1\n",
        "        else:\n",
        "            try:\n",
        "                direction = next(directions_iter)\n",
        "            except StopIteration:\n",
        "                directions_iter = iter(['right', 'bottom', 'left', 'top'])\n",
        "                direction = next(directions_iter)\n",
        "    return spiral"
      ]
    },
    {
      "cell_type": "code",
      "source": [
        "matrix = spiral_matrix(3)\n",
        "for row in matrix:\n",
        "    print(row)"
      ],
      "metadata": {
        "colab": {
          "base_uri": "https://localhost:8080/"
        },
        "id": "tzbLqqReb3xX",
        "outputId": "bce52739-5ce7-4860-9477-a86f15663117"
      },
      "execution_count": 41,
      "outputs": [
        {
          "output_type": "stream",
          "name": "stdout",
          "text": [
            "[1, 2, 3]\n",
            "[8, 9, 4]\n",
            "[7, 6, 5]\n"
          ]
        }
      ]
    }
  ]
}