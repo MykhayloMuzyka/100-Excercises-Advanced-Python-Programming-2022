{
  "nbformat": 4,
  "nbformat_minor": 0,
  "metadata": {
    "colab": {
      "name": "100+ Exercises - Advanced Python Programming - 2022.ipynb",
      "provenance": [],
      "authorship_tag": "ABX9TyM7bUrk/mY4ELOAlft5EeUM"
    },
    "kernelspec": {
      "name": "python3",
      "display_name": "Python 3"
    },
    "language_info": {
      "name": "python"
    }
  },
  "cells": [
    {
      "cell_type": "code",
      "execution_count": 42,
      "metadata": {
        "id": "wFGaRb8BzCG4"
      },
      "outputs": [],
      "source": [
        "def clean_hashtags():\n",
        "    with open('hashtags.txt', 'r') as f:\n",
        "        hashtags_txt = f.read()\n",
        "    rows = hashtags_txt.split('\\n')\n",
        "    hashtags = list()\n",
        "    for row in rows:\n",
        "        hashtags += row.split(' ')\n",
        "    cleaned = [hashtag for hashtag in hashtags if len(hashtag) <= 5]\n",
        "    return sorted(cleaned)"
      ]
    },
    {
      "cell_type": "code",
      "source": [
        "print(clean_hashtags())"
      ],
      "metadata": {
        "colab": {
          "base_uri": "https://localhost:8080/"
        },
        "id": "tzbLqqReb3xX",
        "outputId": "07894263-3332-4fa1-93bf-f4ff88305c50"
      },
      "execution_count": 43,
      "outputs": [
        {
          "output_type": "stream",
          "name": "stdout",
          "text": [
            "['#bike', '#fit', '#fun', '#gym', '#like', '#love', '#mma', '#nike', '#run', '#team', '#ufc', '#yoga']\n"
          ]
        }
      ]
    }
  ]
}