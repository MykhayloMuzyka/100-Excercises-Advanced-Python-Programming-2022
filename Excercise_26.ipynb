{
  "nbformat": 4,
  "nbformat_minor": 0,
  "metadata": {
    "colab": {
      "name": "100+ Exercises - Advanced Python Programming - 2022.ipynb",
      "provenance": [],
      "authorship_tag": "ABX9TyN6J4uOM+N+pwuvYK+fyx+E"
    },
    "kernelspec": {
      "name": "python3",
      "display_name": "Python 3"
    },
    "language_info": {
      "name": "python"
    }
  },
  "cells": [
    {
      "cell_type": "code",
      "execution_count": 44,
      "metadata": {
        "id": "wFGaRb8BzCG4"
      },
      "outputs": [],
      "source": [
        "def clean_hashtags(input_file, output_file, max_len):\n",
        "    with open(input_file, 'r') as f:\n",
        "        hashtags_txt = f.read()\n",
        "    rows = hashtags_txt.split('\\n')\n",
        "    hashtags = list()\n",
        "    for row in rows:\n",
        "        hashtags += row.split(' ')\n",
        "    cleaned = sorted(set([hashtag for hashtag in hashtags if len(hashtag) <= (max_len + 1)]))\n",
        "    with open(output_file, 'w') as f:\n",
        "        f.write('\\n'.join(cleaned) + '\\n')"
      ]
    },
    {
      "cell_type": "code",
      "source": [
        "clean_hashtags('hashtags.txt', 'output.txt', 5)"
      ],
      "metadata": {
        "id": "tzbLqqReb3xX"
      },
      "execution_count": 45,
      "outputs": []
    }
  ]
}