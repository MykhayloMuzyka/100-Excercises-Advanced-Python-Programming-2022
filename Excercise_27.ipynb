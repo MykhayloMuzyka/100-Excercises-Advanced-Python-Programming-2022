{
  "nbformat": 4,
  "nbformat_minor": 0,
  "metadata": {
    "colab": {
      "name": "100+ Exercises - Advanced Python Programming - 2022.ipynb",
      "provenance": [],
      "authorship_tag": "ABX9TyPES4cho/DvEm5146g6CN2H"
    },
    "kernelspec": {
      "name": "python3",
      "display_name": "Python 3"
    },
    "language_info": {
      "name": "python"
    }
  },
  "cells": [
    {
      "cell_type": "code",
      "execution_count": 46,
      "metadata": {
        "id": "wFGaRb8BzCG4"
      },
      "outputs": [],
      "source": [
        "def binary_to_int():\n",
        "    with open('binary.txt', 'r') as f:\n",
        "        binaries = f.read().split()\n",
        "    return [int(b, 2) for b in binaries]"
      ]
    },
    {
      "cell_type": "code",
      "source": [
        "binary_to_int()"
      ],
      "metadata": {
        "colab": {
          "base_uri": "https://localhost:8080/"
        },
        "id": "tzbLqqReb3xX",
        "outputId": "953687f9-291a-4b2a-d4ff-22aa9bf90e3c"
      },
      "execution_count": 48,
      "outputs": [
        {
          "output_type": "execute_result",
          "data": {
            "text/plain": [
              "[32293,\n",
              " 44802,\n",
              " 11290,\n",
              " 61820,\n",
              " 19270,\n",
              " 4638,\n",
              " 1749,\n",
              " 10344,\n",
              " 17165,\n",
              " 8129,\n",
              " 31236,\n",
              " 43147,\n",
              " 8728,\n",
              " 17654]"
            ]
          },
          "metadata": {},
          "execution_count": 48
        }
      ]
    }
  ]
}