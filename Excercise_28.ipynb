{
  "nbformat": 4,
  "nbformat_minor": 0,
  "metadata": {
    "colab": {
      "name": "100+ Exercises - Advanced Python Programming - 2022.ipynb",
      "provenance": [],
      "authorship_tag": "ABX9TyMqqkikfMNNL/cjLRupUvdX"
    },
    "kernelspec": {
      "name": "python3",
      "display_name": "Python 3"
    },
    "language_info": {
      "name": "python"
    }
  },
  "cells": [
    {
      "cell_type": "code",
      "execution_count": 49,
      "metadata": {
        "id": "wFGaRb8BzCG4"
      },
      "outputs": [],
      "source": [
        "import json"
      ]
    },
    {
      "cell_type": "code",
      "source": [
        "def filter_active_users():\n",
        "    with open('users.json', 'r') as f:\n",
        "        users = json.load(f)\n",
        "    filtered = [user for user in users if user['is_active']]\n",
        "    with open('active_users.json', 'w') as f:\n",
        "        json.dump(filtered, f)"
      ],
      "metadata": {
        "id": "tzbLqqReb3xX"
      },
      "execution_count": 50,
      "outputs": []
    },
    {
      "cell_type": "code",
      "source": [
        "filter_active_users()"
      ],
      "metadata": {
        "id": "oL0v5vRV7CQ9"
      },
      "execution_count": 51,
      "outputs": []
    }
  ]
}