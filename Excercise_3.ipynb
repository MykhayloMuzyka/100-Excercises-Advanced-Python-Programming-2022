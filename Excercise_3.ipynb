{
  "nbformat": 4,
  "nbformat_minor": 0,
  "metadata": {
    "colab": {
      "name": "Excercise 3.ipynb",
      "provenance": [],
      "authorship_tag": "ABX9TyNXM2zCvK4Qrfgin2Xg4Jfz",
      "include_colab_link": true
    },
    "kernelspec": {
      "name": "python3",
      "display_name": "Python 3"
    },
    "language_info": {
      "name": "python"
    }
  },
  "cells": [
    {
      "cell_type": "markdown",
      "metadata": {
        "id": "view-in-github",
        "colab_type": "text"
      },
      "source": [
        "<a href=\"https://colab.research.google.com/github/MykhayloMuzyka/100-Excercises-Advanced-Python-Programming-2022/blob/main/Excercise_3.ipynb\" target=\"_parent\"><img src=\"https://colab.research.google.com/assets/colab-badge.svg\" alt=\"Open In Colab\"/></a>"
      ]
    },
    {
      "cell_type": "code",
      "execution_count": 3,
      "metadata": {
        "id": "tmJ3o5qKvVe6"
      },
      "outputs": [],
      "source": [
        "def is_number_is_even(num):\n",
        "  for i in range(2, num):\n",
        "    if num % i == 0:\n",
        "      return False\n",
        "  return True  "
      ]
    },
    {
      "cell_type": "code",
      "source": [
        "def get_list_of_prime_numbers(num):\n",
        "  res = list()\n",
        "  for i in range(2, num + 1):\n",
        "    res.append(i) if is_number_is_even(i) else ...\n",
        "  return res"
      ],
      "metadata": {
        "id": "bX484_XCvyGc"
      },
      "execution_count": 4,
      "outputs": []
    },
    {
      "cell_type": "code",
      "source": [
        "def calculate(num):\n",
        "  res = list()\n",
        "  while num != 1:\n",
        "    for i in get_list_of_prime_numbers(num):\n",
        "      if num % i == 0:\n",
        "        res.append(i)\n",
        "        num //= i\n",
        "  res.sort()\n",
        "  return res"
      ],
      "metadata": {
        "id": "7KTYMwfxvZhP"
      },
      "execution_count": 9,
      "outputs": []
    },
    {
      "cell_type": "code",
      "source": [
        "print(calculate(48))"
      ],
      "metadata": {
        "colab": {
          "base_uri": "https://localhost:8080/"
        },
        "id": "dL6IeRltwv3d",
        "outputId": "3e8e4771-ca2e-4371-e605-0447182fc496"
      },
      "execution_count": 10,
      "outputs": [
        {
          "output_type": "stream",
          "name": "stdout",
          "text": [
            "[2, 2, 2, 2, 3]\n"
          ]
        }
      ]
    }
  ]
}