{
  "nbformat": 4,
  "nbformat_minor": 0,
  "metadata": {
    "colab": {
      "name": "100+ Exercises - Advanced Python Programming - 2022.ipynb",
      "provenance": [],
      "authorship_tag": "ABX9TyMJ0wLblKhAFs0L+H2yRFSC"
    },
    "kernelspec": {
      "name": "python3",
      "display_name": "Python 3"
    },
    "language_info": {
      "name": "python"
    }
  },
  "cells": [
    {
      "cell_type": "code",
      "execution_count": 18,
      "metadata": {
        "id": "wFGaRb8BzCG4"
      },
      "outputs": [],
      "source": [
        "def is_prime(num):\n",
        "  for i in range(2, num):\n",
        "    if num % i == 0:\n",
        "      return False\n",
        "  return True"
      ]
    },
    {
      "cell_type": "code",
      "source": [
        "def get_list_of_prime_numbers(num):\n",
        "  res = list()\n",
        "  for i in range(2, num + 1):\n",
        "    res.append(i) if is_prime(i) else ...\n",
        "  return res"
      ],
      "metadata": {
        "id": "dTOrPF1I4suE"
      },
      "execution_count": 19,
      "outputs": []
    },
    {
      "cell_type": "code",
      "source": [
        "def calculate(num):\n",
        "  res = list()\n",
        "  while num != 1:\n",
        "    for i in get_list_of_prime_numbers(num):\n",
        "      if num % i == 0:\n",
        "        res.append(i)\n",
        "        num //= i\n",
        "  res.sort()\n",
        "  return res"
      ],
      "metadata": {
        "id": "hPm6ZOqP5WGH"
      },
      "execution_count": 20,
      "outputs": []
    },
    {
      "cell_type": "code",
      "source": [
        "print(calculate(48))"
      ],
      "metadata": {
        "colab": {
          "base_uri": "https://localhost:8080/"
        },
        "id": "p2qewfYj5XvS",
        "outputId": "7d0f219a-37a4-4e77-eb2e-3f5c33ba8694"
      },
      "execution_count": 21,
      "outputs": [
        {
          "output_type": "stream",
          "name": "stdout",
          "text": [
            "[2, 2, 2, 2, 3]\n"
          ]
        }
      ]
    }
  ]
}