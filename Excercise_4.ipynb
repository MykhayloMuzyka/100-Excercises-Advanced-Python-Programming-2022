{
  "nbformat": 4,
  "nbformat_minor": 0,
  "metadata": {
    "colab": {
      "name": "Excercise 4.ipynb",
      "provenance": [],
      "authorship_tag": "ABX9TyMnnXzx4wTZvUs82WfLE96z",
      "include_colab_link": true
    },
    "kernelspec": {
      "name": "python3",
      "display_name": "Python 3"
    },
    "language_info": {
      "name": "python"
    }
  },
  "cells": [
    {
      "cell_type": "markdown",
      "metadata": {
        "id": "view-in-github",
        "colab_type": "text"
      },
      "source": [
        "<a href=\"https://colab.research.google.com/github/MykhayloMuzyka/100-Excercises-Advanced-Python-Programming-2022/blob/main/Excercise_4.ipynb\" target=\"_parent\"><img src=\"https://colab.research.google.com/assets/colab-badge.svg\" alt=\"Open In Colab\"/></a>"
      ]
    },
    {
      "cell_type": "code",
      "execution_count": 2,
      "metadata": {
        "id": "dhpl9g4KyVZ6"
      },
      "outputs": [],
      "source": [
        "def is_prime(num):\n",
        "    for i in range(2, num // 2 + 1):\n",
        "        if num % i == 0:\n",
        "            return False\n",
        "    return True "
      ]
    },
    {
      "cell_type": "code",
      "source": [
        "def calculate(num):\n",
        "    for i in range(num // 2 + 1, 1, -1):\n",
        "        if num % i == 0 and is_prime(i):\n",
        "            return i\n",
        "    return 2"
      ],
      "metadata": {
        "id": "26Y44q-1ycS7"
      },
      "execution_count": 3,
      "outputs": []
    },
    {
      "cell_type": "code",
      "source": [
        "print(calculate(13195))"
      ],
      "metadata": {
        "colab": {
          "base_uri": "https://localhost:8080/"
        },
        "id": "Ntrg9PpryjWi",
        "outputId": "c5987130-4d2e-453c-e995-33c613583c33"
      },
      "execution_count": 4,
      "outputs": [
        {
          "output_type": "stream",
          "name": "stdout",
          "text": [
            "29\n"
          ]
        }
      ]
    }
  ]
}