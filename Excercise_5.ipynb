{
  "nbformat": 4,
  "nbformat_minor": 0,
  "metadata": {
    "colab": {
      "name": "100+ Exercises - Advanced Python Programming - 2022.ipynb",
      "provenance": [],
      "authorship_tag": "ABX9TyOw92noN1K7su1+mDBzYgNy"
    },
    "kernelspec": {
      "name": "python3",
      "display_name": "Python 3"
    },
    "language_info": {
      "name": "python"
    }
  },
  "cells": [
    {
      "cell_type": "code",
      "execution_count": 26,
      "metadata": {
        "id": "wFGaRb8BzCG4"
      },
      "outputs": [],
      "source": [
        "def calculate():\n",
        "    res = 0\n",
        "    for i in range(101, 1000):\n",
        "        if str(i)[0] == str(i)[2]:\n",
        "            res += 1\n",
        "    return res"
      ]
    },
    {
      "cell_type": "code",
      "source": [
        "print(calculate())"
      ],
      "metadata": {
        "colab": {
          "base_uri": "https://localhost:8080/"
        },
        "id": "p2qewfYj5XvS",
        "outputId": "99076593-8dfa-4835-c7e4-44438e7d8218"
      },
      "execution_count": 27,
      "outputs": [
        {
          "output_type": "stream",
          "name": "stdout",
          "text": [
            "90\n"
          ]
        }
      ]
    }
  ]
}