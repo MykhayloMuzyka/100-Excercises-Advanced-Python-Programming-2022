{
  "nbformat": 4,
  "nbformat_minor": 0,
  "metadata": {
    "colab": {
      "name": "Excercise 6.ipynb",
      "provenance": [],
      "authorship_tag": "ABX9TyPWtPGp92Pmbf7MDFEaI2v2",
      "include_colab_link": true
    },
    "kernelspec": {
      "name": "python3",
      "display_name": "Python 3"
    },
    "language_info": {
      "name": "python"
    }
  },
  "cells": [
    {
      "cell_type": "markdown",
      "metadata": {
        "id": "view-in-github",
        "colab_type": "text"
      },
      "source": [
        "<a href=\"https://colab.research.google.com/github/MykhayloMuzyka/100-Excercises-Advanced-Python-Programming-2022/blob/main/Excercise_6.ipynb\" target=\"_parent\"><img src=\"https://colab.research.google.com/assets/colab-badge.svg\" alt=\"Open In Colab\"/></a>"
      ]
    },
    {
      "cell_type": "code",
      "execution_count": 1,
      "metadata": {
        "id": "wFGaRb8BzCG4"
      },
      "outputs": [],
      "source": [
        "def calculate():\n",
        "    res = 0\n",
        "    for i in range(10, 100):\n",
        "        for j in range(i, 100):\n",
        "            if str(i * j) == str(i * j)[::-1] and i * j > res:\n",
        "                res = i * j\n",
        "    return res"
      ]
    },
    {
      "cell_type": "code",
      "source": [
        "print(calculate())"
      ],
      "metadata": {
        "id": "inDWwsBszHip",
        "outputId": "a2dac7f0-5646-4592-8e46-13cd27c88e57",
        "colab": {
          "base_uri": "https://localhost:8080/"
        }
      },
      "execution_count": 2,
      "outputs": [
        {
          "output_type": "stream",
          "name": "stdout",
          "text": [
            "9009\n"
          ]
        }
      ]
    }
  ]
}