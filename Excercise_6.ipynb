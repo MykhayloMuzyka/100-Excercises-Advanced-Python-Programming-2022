{
  "nbformat": 4,
  "nbformat_minor": 0,
  "metadata": {
    "colab": {
      "name": "100+ Exercises - Advanced Python Programming - 2022.ipynb",
      "provenance": [],
      "authorship_tag": "ABX9TyPWtPGp92Pmbf7MDFEaI2v2"
    },
    "kernelspec": {
      "name": "python3",
      "display_name": "Python 3"
    },
    "language_info": {
      "name": "python"
    }
  },
  "cells": [
    {
      "cell_type": "code",
      "execution_count": 32,
      "metadata": {
        "id": "wFGaRb8BzCG4"
      },
      "outputs": [],
      "source": [
        "def calculate():\n",
        "    res = 0\n",
        "    for i in range(10, 100):\n",
        "        for j in range(i, 100):\n",
        "            if str(i * j) == str(i * j)[::-1] and i * j > res:\n",
        "                res = i * j\n",
        "    return res"
      ]
    },
    {
      "cell_type": "code",
      "source": [
        "print(calculate())"
      ],
      "metadata": {
        "colab": {
          "base_uri": "https://localhost:8080/"
        },
        "id": "p2qewfYj5XvS",
        "outputId": "ce6e4755-845c-40d7-b641-e0c64b16dd3d"
      },
      "execution_count": 33,
      "outputs": [
        {
          "output_type": "stream",
          "name": "stdout",
          "text": [
            "9009\n"
          ]
        }
      ]
    }
  ]
}