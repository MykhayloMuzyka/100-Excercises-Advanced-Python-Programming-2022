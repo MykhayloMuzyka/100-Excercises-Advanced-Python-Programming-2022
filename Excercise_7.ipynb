{
  "nbformat": 4,
  "nbformat_minor": 0,
  "metadata": {
    "colab": {
      "name": "100+ Exercises - Advanced Python Programming - 2022.ipynb",
      "provenance": [],
      "authorship_tag": "ABX9TyPT1PqEL+77h4RlzY/imTGR"
    },
    "kernelspec": {
      "name": "python3",
      "display_name": "Python 3"
    },
    "language_info": {
      "name": "python"
    }
  },
  "cells": [
    {
      "cell_type": "code",
      "execution_count": 30,
      "metadata": {
        "id": "wFGaRb8BzCG4"
      },
      "outputs": [],
      "source": [
        "def greatest_common_divisor(a, b):\n",
        "    for i in range(min(a, b), 1, -1):\n",
        "        if a % i == 0 and b % i == 0:\n",
        "            return i\n",
        "    return 1"
      ]
    },
    {
      "cell_type": "code",
      "source": [
        "print(greatest_common_divisor(32, 48))"
      ],
      "metadata": {
        "colab": {
          "base_uri": "https://localhost:8080/"
        },
        "id": "p2qewfYj5XvS",
        "outputId": "4bb9c88f-14ac-4da7-e09d-d537ada20ff4"
      },
      "execution_count": 31,
      "outputs": [
        {
          "output_type": "stream",
          "name": "stdout",
          "text": [
            "16\n"
          ]
        }
      ]
    }
  ]
}