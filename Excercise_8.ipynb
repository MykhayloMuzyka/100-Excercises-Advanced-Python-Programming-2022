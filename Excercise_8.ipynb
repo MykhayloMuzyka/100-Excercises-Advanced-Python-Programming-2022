{
  "nbformat": 4,
  "nbformat_minor": 0,
  "metadata": {
    "colab": {
      "name": "100+ Exercises - Advanced Python Programming - 2022.ipynb",
      "provenance": [],
      "authorship_tag": "ABX9TyNLwAnjieksmg0N4JXis5QO"
    },
    "kernelspec": {
      "name": "python3",
      "display_name": "Python 3"
    },
    "language_info": {
      "name": "python"
    }
  },
  "cells": [
    {
      "cell_type": "code",
      "execution_count": 42,
      "metadata": {
        "id": "wFGaRb8BzCG4"
      },
      "outputs": [],
      "source": [
        "def is_prime(num):\n",
        "    if num in (0, 1):\n",
        "        return False\n",
        "    for i in range(num // 2 + 1, 1, -1):\n",
        "        if num % i == 0:\n",
        "            return False\n",
        "    return True"
      ]
    }
  ]
}