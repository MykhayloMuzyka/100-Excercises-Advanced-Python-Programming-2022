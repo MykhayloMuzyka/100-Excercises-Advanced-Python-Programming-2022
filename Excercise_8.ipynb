{
  "nbformat": 4,
  "nbformat_minor": 0,
  "metadata": {
    "colab": {
      "name": "Excercise 6.ipynb",
      "provenance": [],
      "authorship_tag": "ABX9TyNLwAnjieksmg0N4JXis5QO",
      "include_colab_link": true
    },
    "kernelspec": {
      "name": "python3",
      "display_name": "Python 3"
    },
    "language_info": {
      "name": "python"
    }
  },
  "cells": [
    {
      "cell_type": "markdown",
      "metadata": {
        "id": "view-in-github",
        "colab_type": "text"
      },
      "source": [
        "<a href=\"https://colab.research.google.com/github/MykhayloMuzyka/100-Excercises-Advanced-Python-Programming-2022/blob/main/Excercise_8.ipynb\" target=\"_parent\"><img src=\"https://colab.research.google.com/assets/colab-badge.svg\" alt=\"Open In Colab\"/></a>"
      ]
    },
    {
      "cell_type": "code",
      "execution_count": 5,
      "metadata": {
        "id": "wFGaRb8BzCG4"
      },
      "outputs": [],
      "source": [
        "def is_prime(num):\n",
        "    if num in (0, 1):\n",
        "        return False\n",
        "    for i in range(num // 2 + 1, 1, -1):\n",
        "        if num % i == 0:\n",
        "            return False\n",
        "    return True"
      ]
    }
  ]
}