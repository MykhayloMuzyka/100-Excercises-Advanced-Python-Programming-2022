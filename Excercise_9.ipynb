{
  "nbformat": 4,
  "nbformat_minor": 0,
  "metadata": {
    "colab": {
      "name": "100+ Exercises - Advanced Python Programming - 2022.ipynb",
      "provenance": [],
      "authorship_tag": "ABX9TyPzb3meli2scsfjAskR1oad"
    },
    "kernelspec": {
      "name": "python3",
      "display_name": "Python 3"
    },
    "language_info": {
      "name": "python"
    }
  },
  "cells": [
    {
      "cell_type": "code",
      "execution_count": 34,
      "metadata": {
        "id": "wFGaRb8BzCG4"
      },
      "outputs": [],
      "source": [
        "def is_prime(num):\n",
        "    if num in (0, 1):\n",
        "        return False\n",
        "    for i in range(num // 2 + 1, 1, -1):\n",
        "        if num % i == 0:\n",
        "            return False\n",
        "    return True"
      ]
    },
    {
      "cell_type": "code",
      "source": [
        "def calculate():\n",
        "    position, num = 2, 3\n",
        "    while position < 100:\n",
        "        num += 2\n",
        "        if is_prime(num):\n",
        "            position += 1\n",
        "    return num"
      ],
      "metadata": {
        "id": "TN36xxiC7Ips"
      },
      "execution_count": 35,
      "outputs": []
    },
    {
      "cell_type": "code",
      "source": [
        "print(calculate())"
      ],
      "metadata": {
        "colab": {
          "base_uri": "https://localhost:8080/"
        },
        "id": "c8i_RLKz7KbK",
        "outputId": "c5f00e10-d41c-41ef-8792-a4b56c18aeb6"
      },
      "execution_count": 36,
      "outputs": [
        {
          "output_type": "stream",
          "name": "stdout",
          "text": [
            "541\n"
          ]
        }
      ]
    }
  ]
}