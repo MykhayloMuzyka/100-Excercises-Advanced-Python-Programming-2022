{
  "nbformat": 4,
  "nbformat_minor": 0,
  "metadata": {
    "colab": {
      "name": "Exrcise 0.ipynb",
      "provenance": [],
      "authorship_tag": "ABX9TyMD4sdgpvQCWpg+GNU2bbOT",
      "include_colab_link": true
    },
    "kernelspec": {
      "name": "python3",
      "display_name": "Python 3"
    },
    "language_info": {
      "name": "python"
    }
  },
  "cells": [
    {
      "cell_type": "markdown",
      "metadata": {
        "id": "view-in-github",
        "colab_type": "text"
      },
      "source": [
        "<a href=\"https://colab.research.google.com/github/MykhayloMuzyka/100-Excercises-Advanced-Python-Programming-2022/blob/main/Exrcise_0.ipynb\" target=\"_parent\"><img src=\"https://colab.research.google.com/assets/colab-badge.svg\" alt=\"Open In Colab\"/></a>"
      ]
    },
    {
      "cell_type": "code",
      "execution_count": 2,
      "metadata": {
        "colab": {
          "base_uri": "https://localhost:8080/"
        },
        "id": "ZKWqo0g9odhC",
        "outputId": "88b5055a-1d79-4397-effd-cb0bc62eae7c"
      },
      "outputs": [
        {
          "output_type": "stream",
          "name": "stdout",
          "text": [
            "3.7.13\n"
          ]
        }
      ],
      "source": [
        "import sys\n",
        "\n",
        "print(sys.version.split(' ')[0])"
      ]
    }
  ]
}